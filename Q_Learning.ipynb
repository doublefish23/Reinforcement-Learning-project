{
 "cells": [
  {
   "cell_type": "code",
   "execution_count": 1,
   "metadata": {
    "collapsed": true
   },
   "outputs": [],
   "source": [
    "import gym\n",
    "import numpy as np"
   ]
  },
  {
   "cell_type": "code",
   "execution_count": 35,
   "metadata": {},
   "outputs": [],
   "source": [
    "class QLearn:\n",
    "    def __init__(self,Q,policy,legal_actions,actions,gamma,lr):\n",
    "        self.Q = Q \n",
    "        self.policy = policy\n",
    "        self.legal_actions = legal_actions\n",
    "        self.actions = actions\n",
    "        self.gamma =gamma\n",
    "        self.lr =lr\n",
    "       \n",
    "    def q_value(self,s,a):\n",
    "        if (s,a) in self.Q:\n",
    "            self.Q[(s,a)]\n",
    "        else:\n",
    "            self.Q[s,a]=0\n",
    "        return self.Q[s,a]\n",
    "\n",
    "    def action(self,s):\n",
    "        if s in self.policy:\n",
    "            return self.policy[s]\n",
    "        else:\n",
    "            self.policy[s] = self.actions[np.random.randint(0,self.legal_actions)]\n",
    "        return self.policy[s]\n",
    "\n",
    "    def learn(self,s,a,s1,r,done):\n",
    "        if done:\n",
    "            self.Q[(s,a)] =self.q_value(s,a)+ self.lr*(r - self.q_value(s,a))\n",
    "        else:\n",
    "            self.Q[(s,a)] =self.q_value(s,a)+ self.lr*(r+self.gamma*max([self.q_value(s1,a1) for a1 in self.actions]) - self.q_value(s,a))\n",
    "        self.q_values = [self.q_value(s,a1) for a1 in self.actions]\n",
    "        self.policy[s] = self.actions[self.q_values.index(max(self.q_values))]"
   ]
  },
  {
   "cell_type": "code",
   "execution_count": 6,
   "metadata": {
    "collapsed": true
   },
   "outputs": [],
   "source": [
    "def discretize(obs):\n",
    "       return tuple([int(np.digitize(obs[i], BINS[i])) for i in range(len(N_BINS))])"
   ]
  },
  {
   "cell_type": "code",
   "execution_count": 127,
   "metadata": {
    "collapsed": true
   },
   "outputs": [
    {
     "name": "stdout",
     "output_type": "stream",
     "text": [
      "\u001b[33mWARN: gym.spaces.Box autodetected dtype as <class 'numpy.float32'>. Please provide explicit dtype.\u001b[0m\n"
     ]
    }
   ],
   "source": [
    "env = gym.make('MountainCar-v0')\n",
    "s = env.reset()"
   ]
  },
  {
   "cell_type": "code",
   "execution_count": 128,
   "metadata": {
    "collapsed": true
   },
   "outputs": [],
   "source": [
    "N_BINS = [10,10]\n",
    "MIN_VALUES = [0.6,0.07]\n",
    "MAX_VALUES = [-1.2,-.07]\n",
    "BINS = [np.linspace(MIN_VALUES[i], MAX_VALUES[i], N_BINS[i]) for i in range(len(N_BINS))]"
   ]
  },
  {
   "cell_type": "code",
   "execution_count": 301,
   "metadata": {
    "collapsed": true
   },
   "outputs": [],
   "source": [
    "Q = {}\n",
    "policy ={}\n",
    "epsilon =0.2\n",
    "epsilon_decay =0.995\n",
    "num_episodes = 20000\n",
    "legal_actions =3\n",
    "actions =[0,1,2]\n",
    "gamma = 0.99\n",
    "lr =0.5\n"
   ]
  },
  {
   "cell_type": "code",
   "execution_count": 312,
   "metadata": {},
   "outputs": [],
   "source": [
    "def play_episode(env, QL,n=100000, learning = True, epsilon=0.5, epsilon_decay=0.99,gamma = 0.99, lr=0.5):\n",
    "    success = 0\n",
    "    s_raw= env.reset()\n",
    "    s = discretize(s_raw)\n",
    "    reward_total = 0\n",
    "    for i in range(200):\n",
    "        n-=1\n",
    "        if learning:\n",
    "            if np.random.random()< epsilon:\n",
    "                a = np.random.randint(0,legal_actions)\n",
    "                epsilon = epsilon*epsilon_decay\n",
    "            else:\n",
    "                a =QL.action(s)\n",
    "        else:\n",
    "            a = QL.action(s)\n",
    "        s1_raw,r,d,_ = env.step(a)\n",
    "        reward_total=reward_total+r\n",
    "        s1 = discretize(s1_raw)\n",
    "        if not learning:\n",
    "            env.render()\n",
    "        if d:\n",
    "            if reward_total != -200:\n",
    "                success=1\n",
    "            break\n",
    "        if learning:\n",
    "            QL.learn(s,a,s1,r,d)\n",
    "        s = s1\n",
    "    if not learning:\n",
    "        print(\"reward: \" , reward_total)\n",
    "        env.close() \n",
    "    if learning:\n",
    "        return QL, epsilon, success,n"
   ]
  },
  {
   "cell_type": "code",
   "execution_count": 313,
   "metadata": {},
   "outputs": [],
   "source": [
    "successful_straight = 0\n",
    "successful_straight_max = 0"
   ]
  },
  {
   "cell_type": "code",
   "execution_count": 317,
   "metadata": {
    "collapsed": true
   },
   "outputs": [
    {
     "name": "stdout",
     "output_type": "stream",
     "text": [
      "Wall time: 2.16 s\n"
     ]
    }
   ],
   "source": [
    "%%time\n",
    "Q = {}\n",
    "policy ={}\n",
    "n = 100000\n",
    "n_success = {}\n",
    "n_suc = 0\n",
    "QL = QLearn(Q,policy,legal_actions,actions,gamma,lr)\n",
    "for i in range(num_episodes):\n",
    "    if n < 0:\n",
    "        break\n",
    "    QL, epsilon, success,n = play_episode(env, QL,n=n, epsilon=epsilon)\n",
    "    if success == 1:\n",
    "        n_suc += success\n",
    "        n_success[n_suc] = 100000 - n\n",
    "env.close()  "
   ]
  },
  {
   "cell_type": "code",
   "execution_count": 321,
   "metadata": {},
   "outputs": [
    {
     "name": "stdout",
     "output_type": "stream",
     "text": [
      "reward:  -159.0\n"
     ]
    }
   ],
   "source": [
    "play_episode(env, QL, learning = False)"
   ]
  },
  {
   "cell_type": "code",
   "execution_count": 325,
   "metadata": {},
   "outputs": [],
   "source": [
    "from matplotlib import pyplot as plt\n",
    "%matplotlib inline"
   ]
  },
  {
   "cell_type": "code",
   "execution_count": 333,
   "metadata": {},
   "outputs": [],
   "source": [
    "x,y = list(zip(*n_success.items()))"
   ]
  },
  {
   "cell_type": "code",
   "execution_count": 335,
   "metadata": {},
   "outputs": [
    {
     "data": {
      "text/plain": [
       "[<matplotlib.lines.Line2D at 0x2684ba22198>]"
      ]
     },
     "execution_count": 335,
     "metadata": {},
     "output_type": "execute_result"
    },
    {
     "data": {
      "image/png": "[encoded data removed]",
      "text/plain": [
       "<Figure size 432x288 with 1 Axes>"
      ]
     },
     "metadata": {
      "needs_background": "light"
     },
     "output_type": "display_data"
    }
   ],
   "source": [
    "plt.plot(y,x)"
   ]
  }
 ],
 "metadata": {
  "kernelspec": {
   "display_name": "fastai",
   "language": "python",
   "name": "myenv"
  },
  "language_info": {
   "codemirror_mode": {
    "name": "ipython",
    "version": 3
   },
   "file_extension": ".py",
   "mimetype": "text/x-python",
   "name": "python",
   "nbconvert_exporter": "python",
   "pygments_lexer": "ipython3",
   "version": "3.6.6"
  }
 },
 "nbformat": 4,
 "nbformat_minor": 2
}
